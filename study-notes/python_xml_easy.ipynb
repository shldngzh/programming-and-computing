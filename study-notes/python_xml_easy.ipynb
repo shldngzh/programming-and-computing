{
 "cells": [
  {
   "cell_type": "markdown",
   "metadata": {},
   "source": [
    "# Python vs XML: An Easy Example\n",
    "---\n",
    "xzhai March 16, 2017"
   ]
  },
  {
   "cell_type": "code",
   "execution_count": 63,
   "metadata": {
    "collapsed": false
   },
   "outputs": [],
   "source": [
    "import pandas as pd\n",
    "import numpy as np\n",
    "import matplotlib.pyplot as plt\n",
    "%matplotlib inline\n",
    "\n",
    "import xml\n",
    "import xml.etree.ElementTree as ET\n",
    "\n",
    "from enum import Enum\n",
    "\n",
    "import itertools"
   ]
  },
  {
   "cell_type": "markdown",
   "metadata": {},
   "source": [
    "## Example XML"
   ]
  },
  {
   "cell_type": "code",
   "execution_count": 71,
   "metadata": {
    "collapsed": true
   },
   "outputs": [],
   "source": [
    "xml = r'''\n",
    "        <?xml version=\"1.0\"?>\n",
    "        <data>\n",
    "            <country name=\"Liechtenstein\">\n",
    "                <rank>1</rank>\n",
    "                <year>2008</year>\n",
    "                <gdppc>141100</gdppc>\n",
    "                <neighbor name=\"Austria\" direction=\"E\"/>\n",
    "                <neighbor name=\"Switzerland\" direction=\"W\"/>\n",
    "            </country>\n",
    "            <country name=\"Singapore\">\n",
    "                <rank>4</rank>\n",
    "                <year>2011</year>\n",
    "                <gdppc>59900</gdppc>\n",
    "                <neighbor name=\"Malaysia\" direction=\"N\"/>\n",
    "            </country>\n",
    "            <country name=\"Panama\">\n",
    "                <rank>68</rank>\n",
    "                <year>2011</year>\n",
    "                <gdppc>13600</gdppc>\n",
    "                <neighbor name=\"Costa Rica\" direction=\"W\"/>\n",
    "                <neighbor name=\"Colombia\" direction=\"E\"/>\n",
    "            </country>\n",
    "        </data>\n",
    "    '''"
   ]
  },
  {
   "cell_type": "markdown",
   "metadata": {},
   "source": [
    "## Parse"
   ]
  },
  {
   "cell_type": "code",
   "execution_count": 69,
   "metadata": {
    "collapsed": false
   },
   "outputs": [
    {
     "name": "stdout",
     "output_type": "stream",
     "text": [
      "data {}\n"
     ]
    }
   ],
   "source": [
    "root = ET.fromstring(xml)"
   ]
  },
  {
   "cell_type": "markdown",
   "metadata": {},
   "source": [
    "### traverse a node with loop"
   ]
  },
  {
   "cell_type": "code",
   "execution_count": 5,
   "metadata": {
    "collapsed": false
   },
   "outputs": [
    {
     "name": "stdout",
     "output_type": "stream",
     "text": [
      "country {'name': 'Liechtenstein'} \n",
      "        \n",
      "country {'name': 'Singapore'} \n",
      "        \n",
      "country {'name': 'Panama'} \n",
      "        \n"
     ]
    }
   ],
   "source": [
    "for child in root:\n",
    "    print(child.tag, child.attrib, child.text)"
   ]
  },
  {
   "cell_type": "markdown",
   "metadata": {},
   "source": [
    "### access data via index & Enum"
   ]
  },
  {
   "cell_type": "code",
   "execution_count": 74,
   "metadata": {
    "collapsed": false
   },
   "outputs": [
    {
     "name": "stdout",
     "output_type": "stream",
     "text": [
      "0\n",
      "2008\n"
     ]
    }
   ],
   "source": [
    "class country(Enum):\n",
    "    Lienchtenstein = 0\n",
    "    Singapore = 1\n",
    "    Panama = 2\n",
    "    \n",
    "print(country.Lienchtenstein.value)\n",
    "\n",
    "print(root[country.Lienchtenstein.value][1].text)"
   ]
  },
  {
   "cell_type": "markdown",
   "metadata": {},
   "source": [
    "### functions\n",
    "\n",
    "```python\n",
    "finall()\n",
    "```"
   ]
  },
  {
   "cell_type": "code",
   "execution_count": 30,
   "metadata": {
    "collapsed": false
   },
   "outputs": [
    {
     "name": "stdout",
     "output_type": "stream",
     "text": [
      "Liechtenstein 1\n",
      "Singapore 4\n",
      "Panama 68\n"
     ]
    }
   ],
   "source": [
    "for country in root.findall('country'):\n",
    "    print(country.get('name'), country.find('rank').text)"
   ]
  },
  {
   "cell_type": "code",
   "execution_count": 47,
   "metadata": {
    "collapsed": false
   },
   "outputs": [
    {
     "data": {
      "text/html": [
       "<div>\n",
       "<table border=\"1\" class=\"dataframe\">\n",
       "  <thead>\n",
       "    <tr style=\"text-align: right;\">\n",
       "      <th></th>\n",
       "      <th>country</th>\n",
       "      <th>rank</th>\n",
       "    </tr>\n",
       "  </thead>\n",
       "  <tbody>\n",
       "    <tr>\n",
       "      <th>0</th>\n",
       "      <td>Liechtenstein</td>\n",
       "      <td>1</td>\n",
       "    </tr>\n",
       "    <tr>\n",
       "      <th>1</th>\n",
       "      <td>Singapore</td>\n",
       "      <td>4</td>\n",
       "    </tr>\n",
       "    <tr>\n",
       "      <th>2</th>\n",
       "      <td>Panama</td>\n",
       "      <td>68</td>\n",
       "    </tr>\n",
       "  </tbody>\n",
       "</table>\n",
       "</div>"
      ],
      "text/plain": [
       "         country rank\n",
       "0  Liechtenstein    1\n",
       "1      Singapore    4\n",
       "2         Panama   68"
      ]
     },
     "execution_count": 47,
     "metadata": {},
     "output_type": "execute_result"
    }
   ],
   "source": [
    "countries = [c.get('name') for c in root.findall('country')]\n",
    "ranks = [c.find('rank').text for c in root.findall('country')]\n",
    "df = pd.DataFrame({'country': countries,\n",
    "                   'rank': ranks\n",
    "                  }\n",
    "                 )\n",
    "df.head()"
   ]
  },
  {
   "cell_type": "markdown",
   "metadata": {
    "collapsed": false
   },
   "source": [
    "### XPath"
   ]
  },
  {
   "cell_type": "code",
   "execution_count": 59,
   "metadata": {
    "collapsed": false
   },
   "outputs": [
    {
     "data": {
      "text/plain": [
       "[<Element 'neighbor' at 0x000000000A0B82C8>,\n",
       " <Element 'neighbor' at 0x000000000A0B8318>,\n",
       " <Element 'neighbor' at 0x000000000A0B8598>,\n",
       " <Element 'neighbor' at 0x000000000A0B8A48>,\n",
       " <Element 'neighbor' at 0x000000000A0B8B38>]"
      ]
     },
     "execution_count": 59,
     "metadata": {},
     "output_type": "execute_result"
    }
   ],
   "source": [
    "root.findall('.//neighbor')"
   ]
  }
 ],
 "metadata": {
  "anaconda-cloud": {},
  "kernelspec": {
   "display_name": "Python [default]",
   "language": "python",
   "name": "python3"
  },
  "language_info": {
   "codemirror_mode": {
    "name": "ipython",
    "version": 3
   },
   "file_extension": ".py",
   "mimetype": "text/x-python",
   "name": "python",
   "nbconvert_exporter": "python",
   "pygments_lexer": "ipython3",
   "version": "3.5.2"
  }
 },
 "nbformat": 4,
 "nbformat_minor": 1
}

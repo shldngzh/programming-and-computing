#### fdsf
def price(x):
    return ss
